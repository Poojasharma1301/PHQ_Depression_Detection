{
 "cells": [
  {
   "cell_type": "code",
   "execution_count": 1,
   "id": "ae10d153-dc0f-4588-b6ce-71a53cef53ba",
   "metadata": {},
   "outputs": [],
   "source": [
    "import pandas as pd\n",
    "import matplotlib.pyplot as plt\n",
    "import seaborn as sns"
   ]
  },
  {
   "cell_type": "code",
   "execution_count": 2,
   "id": "e404140c-e779-46f3-9371-9699fdb27680",
   "metadata": {},
   "outputs": [],
   "source": [
    "# Load the CSV file\n",
    "data_df = pd.read_csv('Dataset.csv')"
   ]
  },
  {
   "cell_type": "code",
   "execution_count": 3,
   "id": "0fada2c9-f85a-4480-b1c8-59af2aacc774",
   "metadata": {},
   "outputs": [
    {
     "data": {
      "text/html": [
       "<div>\n",
       "<style scoped>\n",
       "    .dataframe tbody tr th:only-of-type {\n",
       "        vertical-align: middle;\n",
       "    }\n",
       "\n",
       "    .dataframe tbody tr th {\n",
       "        vertical-align: top;\n",
       "    }\n",
       "\n",
       "    .dataframe thead th {\n",
       "        text-align: right;\n",
       "    }\n",
       "</style>\n",
       "<table border=\"1\" class=\"dataframe\">\n",
       "  <thead>\n",
       "    <tr style=\"text-align: right;\">\n",
       "      <th></th>\n",
       "      <th>Age</th>\n",
       "      <th>Gender</th>\n",
       "      <th>Question 1</th>\n",
       "      <th>Question 2</th>\n",
       "      <th>Question 3</th>\n",
       "      <th>Question 4</th>\n",
       "      <th>Question 5</th>\n",
       "      <th>Question 6</th>\n",
       "      <th>Question 7</th>\n",
       "      <th>Question 8</th>\n",
       "      <th>Question 9</th>\n",
       "      <th>Total Score</th>\n",
       "      <th>Label</th>\n",
       "    </tr>\n",
       "  </thead>\n",
       "  <tbody>\n",
       "    <tr>\n",
       "      <th>0</th>\n",
       "      <td>38</td>\n",
       "      <td>Male</td>\n",
       "      <td>0</td>\n",
       "      <td>0</td>\n",
       "      <td>0</td>\n",
       "      <td>0</td>\n",
       "      <td>0</td>\n",
       "      <td>0</td>\n",
       "      <td>0</td>\n",
       "      <td>0</td>\n",
       "      <td>0</td>\n",
       "      <td>0</td>\n",
       "      <td>Minimal Depression</td>\n",
       "    </tr>\n",
       "    <tr>\n",
       "      <th>1</th>\n",
       "      <td>51</td>\n",
       "      <td>Male</td>\n",
       "      <td>0</td>\n",
       "      <td>0</td>\n",
       "      <td>0</td>\n",
       "      <td>0</td>\n",
       "      <td>0</td>\n",
       "      <td>0</td>\n",
       "      <td>0</td>\n",
       "      <td>0</td>\n",
       "      <td>1</td>\n",
       "      <td>1</td>\n",
       "      <td>Minimal Depression</td>\n",
       "    </tr>\n",
       "    <tr>\n",
       "      <th>2</th>\n",
       "      <td>46</td>\n",
       "      <td>Female</td>\n",
       "      <td>0</td>\n",
       "      <td>0</td>\n",
       "      <td>0</td>\n",
       "      <td>0</td>\n",
       "      <td>0</td>\n",
       "      <td>0</td>\n",
       "      <td>0</td>\n",
       "      <td>1</td>\n",
       "      <td>0</td>\n",
       "      <td>1</td>\n",
       "      <td>Minimal Depression</td>\n",
       "    </tr>\n",
       "    <tr>\n",
       "      <th>3</th>\n",
       "      <td>56</td>\n",
       "      <td>Male</td>\n",
       "      <td>0</td>\n",
       "      <td>0</td>\n",
       "      <td>0</td>\n",
       "      <td>0</td>\n",
       "      <td>0</td>\n",
       "      <td>0</td>\n",
       "      <td>1</td>\n",
       "      <td>0</td>\n",
       "      <td>0</td>\n",
       "      <td>1</td>\n",
       "      <td>Minimal Depression</td>\n",
       "    </tr>\n",
       "    <tr>\n",
       "      <th>4</th>\n",
       "      <td>43</td>\n",
       "      <td>Female</td>\n",
       "      <td>0</td>\n",
       "      <td>0</td>\n",
       "      <td>0</td>\n",
       "      <td>0</td>\n",
       "      <td>0</td>\n",
       "      <td>1</td>\n",
       "      <td>0</td>\n",
       "      <td>0</td>\n",
       "      <td>0</td>\n",
       "      <td>1</td>\n",
       "      <td>Minimal Depression</td>\n",
       "    </tr>\n",
       "  </tbody>\n",
       "</table>\n",
       "</div>"
      ],
      "text/plain": [
       "   Age  Gender  Question 1  Question 2  Question 3  Question 4  Question 5  \\\n",
       "0   38    Male           0           0           0           0           0   \n",
       "1   51    Male           0           0           0           0           0   \n",
       "2   46  Female           0           0           0           0           0   \n",
       "3   56    Male           0           0           0           0           0   \n",
       "4   43  Female           0           0           0           0           0   \n",
       "\n",
       "   Question 6  Question 7  Question 8  Question 9  Total Score  \\\n",
       "0           0           0           0           0            0   \n",
       "1           0           0           0           1            1   \n",
       "2           0           0           1           0            1   \n",
       "3           0           1           0           0            1   \n",
       "4           1           0           0           0            1   \n",
       "\n",
       "                Label  \n",
       "0  Minimal Depression  \n",
       "1  Minimal Depression  \n",
       "2  Minimal Depression  \n",
       "3  Minimal Depression  \n",
       "4  Minimal Depression  "
      ]
     },
     "execution_count": 3,
     "metadata": {},
     "output_type": "execute_result"
    }
   ],
   "source": [
    "# Explore the first few rows of the dataset\n",
    "data_df.head()"
   ]
  },
  {
   "cell_type": "code",
   "execution_count": 4,
   "id": "f1246f19-f7ac-430c-8214-f4c2fa7b9906",
   "metadata": {},
   "outputs": [
    {
     "name": "stdout",
     "output_type": "stream",
     "text": [
      "                 Age     Question 1     Question 2     Question 3  \\\n",
      "count  524294.000000  524294.000000  524294.000000  524294.000000   \n",
      "mean       41.481989       1.500017       1.500017       1.500017   \n",
      "std        13.852532       1.118040       1.118040       1.118040   \n",
      "min        18.000000       0.000000       0.000000       0.000000   \n",
      "25%        29.000000       1.000000       1.000000       1.000000   \n",
      "50%        41.000000       2.000000       2.000000       2.000000   \n",
      "75%        54.000000       3.000000       3.000000       3.000000   \n",
      "max        65.000000       3.000000       3.000000       3.000000   \n",
      "\n",
      "          Question 4     Question 5     Question 6     Question 7  \\\n",
      "count  524294.000000  524294.000000  524294.000000  524294.000000   \n",
      "mean        1.500017       1.500017       1.500017       1.500017   \n",
      "std         1.118040       1.118040       1.118040       1.118040   \n",
      "min         0.000000       0.000000       0.000000       0.000000   \n",
      "25%         1.000000       1.000000       1.000000       1.000000   \n",
      "50%         2.000000       2.000000       2.000000       2.000000   \n",
      "75%         3.000000       3.000000       3.000000       3.000000   \n",
      "max         3.000000       3.000000       3.000000       3.000000   \n",
      "\n",
      "          Question 8     Question 9    Total Score  \n",
      "count  524294.000000  524294.000000  524294.000000  \n",
      "mean        1.500017       1.500017      13.500154  \n",
      "std         1.118040       1.118040       3.354397  \n",
      "min         0.000000       0.000000       0.000000  \n",
      "25%         1.000000       1.000000      11.000000  \n",
      "50%         2.000000       2.000000      14.000000  \n",
      "75%         3.000000       3.000000      16.000000  \n",
      "max         3.000000       3.000000      27.000000  \n"
     ]
    }
   ],
   "source": [
    "# Summary statistics for numerical columns\n",
    "print(data_df.describe())"
   ]
  },
  {
   "cell_type": "code",
   "execution_count": 5,
   "id": "87288c9e-32ce-48c8-a80a-896e1e11783c",
   "metadata": {},
   "outputs": [
    {
     "data": {
      "image/png": "[encoded data removed]",
      "text/plain": [
       "<Figure size 640x480 with 1 Axes>"
      ]
     },
     "metadata": {},
     "output_type": "display_data"
    }
   ],
   "source": [
    "# Distribution of the 'Age' column\n",
    "sns.histplot(data_df['Age'], bins=20)\n",
    "plt.xlabel('Age')\n",
    "plt.ylabel('Frequency')\n",
    "plt.title('Age Distribution')\n",
    "plt.show()"
   ]
  },
  {
   "cell_type": "code",
   "execution_count": 6,
   "id": "6745ab02-d2fe-487f-ba65-5d158f7dee2c",
   "metadata": {},
   "outputs": [
    {
     "data": {
      "image/png": "[encoded data removed]",
      "text/plain": [
       "<Figure size 640x480 with 1 Axes>"
      ]
     },
     "metadata": {},
     "output_type": "display_data"
    }
   ],
   "source": [
    "# Gender distribution\n",
    "sns.countplot(data=data_df, x='Gender')\n",
    "plt.xlabel('Gender')\n",
    "plt.ylabel('Count')\n",
    "plt.title('Gender Distribution')\n",
    "plt.show()"
   ]
  },
  {
   "cell_type": "code",
   "execution_count": 7,
   "id": "c5684766-fc1e-4245-b3f0-3030a8dc9bfa",
   "metadata": {},
   "outputs": [
    {
     "data": {
      "image/png": "[encoded data removed]",
      "text/plain": [
       "<Figure size 640x480 with 1 Axes>"
      ]
     },
     "metadata": {},
     "output_type": "display_data"
    }
   ],
   "source": [
    "# Distribution of the 'Label' column\n",
    "sns.countplot(data=data_df, x='Label', order=data_df['Label'].value_counts().index)\n",
    "plt.xlabel('Label')\n",
    "plt.ylabel('Count')\n",
    "plt.title('Label Distribution')\n",
    "plt.xticks(rotation=45)\n",
    "plt.show()"
   ]
  },
  {
   "cell_type": "code",
   "execution_count": 8,
   "id": "2b2c626a-b40c-4abc-be5f-402dc6448c13",
   "metadata": {},
   "outputs": [],
   "source": [
    "# Define label mapping\n",
    "label_mapping = {\n",
    "    0: \"Minimal Depression\",\n",
    "    1: \"Mild Depression\",\n",
    "    2: \"Moderate Depression\",\n",
    "    3: \"Moderately Severe Depression\",\n",
    "    4: \"Severe Depression\",\n",
    "}"
   ]
  },
  {
   "cell_type": "code",
   "execution_count": 9,
   "id": "0450edb0-c659-4285-bfd3-d4fd2f04ee75",
   "metadata": {},
   "outputs": [],
   "source": [
    "from sklearn.preprocessing import LabelEncoder\n",
    "\n",
    "# Initialize the LabelEncoder\n",
    "label_encoder = LabelEncoder()\n",
    "\n",
    "# Encode 'Gender' and 'Label' columns\n",
    "data_df['Gender'] = label_encoder.fit_transform(data_df['Gender'])\n",
    "data_df['Label'] = label_encoder.fit_transform(data_df['Label'])"
   ]
  },
  {
   "cell_type": "code",
   "execution_count": 10,
   "id": "824edacf-33f5-4573-a2cf-019d0517d383",
   "metadata": {},
   "outputs": [
    {
     "data": {
      "text/html": [
       "<div>\n",
       "<style scoped>\n",
       "    .dataframe tbody tr th:only-of-type {\n",
       "        vertical-align: middle;\n",
       "    }\n",
       "\n",
       "    .dataframe tbody tr th {\n",
       "        vertical-align: top;\n",
       "    }\n",
       "\n",
       "    .dataframe thead th {\n",
       "        text-align: right;\n",
       "    }\n",
       "</style>\n",
       "<table border=\"1\" class=\"dataframe\">\n",
       "  <thead>\n",
       "    <tr style=\"text-align: right;\">\n",
       "      <th></th>\n",
       "      <th>Age</th>\n",
       "      <th>Gender</th>\n",
       "      <th>Question 1</th>\n",
       "      <th>Question 2</th>\n",
       "      <th>Question 3</th>\n",
       "      <th>Question 4</th>\n",
       "      <th>Question 5</th>\n",
       "      <th>Question 6</th>\n",
       "      <th>Question 7</th>\n",
       "      <th>Question 8</th>\n",
       "      <th>Question 9</th>\n",
       "      <th>Total Score</th>\n",
       "      <th>Label</th>\n",
       "    </tr>\n",
       "  </thead>\n",
       "  <tbody>\n",
       "    <tr>\n",
       "      <th>0</th>\n",
       "      <td>38</td>\n",
       "      <td>1</td>\n",
       "      <td>0</td>\n",
       "      <td>0</td>\n",
       "      <td>0</td>\n",
       "      <td>0</td>\n",
       "      <td>0</td>\n",
       "      <td>0</td>\n",
       "      <td>0</td>\n",
       "      <td>0</td>\n",
       "      <td>0</td>\n",
       "      <td>0</td>\n",
       "      <td>1</td>\n",
       "    </tr>\n",
       "    <tr>\n",
       "      <th>1</th>\n",
       "      <td>51</td>\n",
       "      <td>1</td>\n",
       "      <td>0</td>\n",
       "      <td>0</td>\n",
       "      <td>0</td>\n",
       "      <td>0</td>\n",
       "      <td>0</td>\n",
       "      <td>0</td>\n",
       "      <td>0</td>\n",
       "      <td>0</td>\n",
       "      <td>1</td>\n",
       "      <td>1</td>\n",
       "      <td>1</td>\n",
       "    </tr>\n",
       "    <tr>\n",
       "      <th>2</th>\n",
       "      <td>46</td>\n",
       "      <td>0</td>\n",
       "      <td>0</td>\n",
       "      <td>0</td>\n",
       "      <td>0</td>\n",
       "      <td>0</td>\n",
       "      <td>0</td>\n",
       "      <td>0</td>\n",
       "      <td>0</td>\n",
       "      <td>1</td>\n",
       "      <td>0</td>\n",
       "      <td>1</td>\n",
       "      <td>1</td>\n",
       "    </tr>\n",
       "    <tr>\n",
       "      <th>3</th>\n",
       "      <td>56</td>\n",
       "      <td>1</td>\n",
       "      <td>0</td>\n",
       "      <td>0</td>\n",
       "      <td>0</td>\n",
       "      <td>0</td>\n",
       "      <td>0</td>\n",
       "      <td>0</td>\n",
       "      <td>1</td>\n",
       "      <td>0</td>\n",
       "      <td>0</td>\n",
       "      <td>1</td>\n",
       "      <td>1</td>\n",
       "    </tr>\n",
       "    <tr>\n",
       "      <th>4</th>\n",
       "      <td>43</td>\n",
       "      <td>0</td>\n",
       "      <td>0</td>\n",
       "      <td>0</td>\n",
       "      <td>0</td>\n",
       "      <td>0</td>\n",
       "      <td>0</td>\n",
       "      <td>1</td>\n",
       "      <td>0</td>\n",
       "      <td>0</td>\n",
       "      <td>0</td>\n",
       "      <td>1</td>\n",
       "      <td>1</td>\n",
       "    </tr>\n",
       "    <tr>\n",
       "      <th>...</th>\n",
       "      <td>...</td>\n",
       "      <td>...</td>\n",
       "      <td>...</td>\n",
       "      <td>...</td>\n",
       "      <td>...</td>\n",
       "      <td>...</td>\n",
       "      <td>...</td>\n",
       "      <td>...</td>\n",
       "      <td>...</td>\n",
       "      <td>...</td>\n",
       "      <td>...</td>\n",
       "      <td>...</td>\n",
       "      <td>...</td>\n",
       "    </tr>\n",
       "    <tr>\n",
       "      <th>524289</th>\n",
       "      <td>25</td>\n",
       "      <td>1</td>\n",
       "      <td>3</td>\n",
       "      <td>3</td>\n",
       "      <td>3</td>\n",
       "      <td>3</td>\n",
       "      <td>3</td>\n",
       "      <td>3</td>\n",
       "      <td>3</td>\n",
       "      <td>3</td>\n",
       "      <td>2</td>\n",
       "      <td>26</td>\n",
       "      <td>4</td>\n",
       "    </tr>\n",
       "    <tr>\n",
       "      <th>524290</th>\n",
       "      <td>28</td>\n",
       "      <td>0</td>\n",
       "      <td>3</td>\n",
       "      <td>3</td>\n",
       "      <td>3</td>\n",
       "      <td>3</td>\n",
       "      <td>3</td>\n",
       "      <td>3</td>\n",
       "      <td>3</td>\n",
       "      <td>3</td>\n",
       "      <td>3</td>\n",
       "      <td>27</td>\n",
       "      <td>4</td>\n",
       "    </tr>\n",
       "    <tr>\n",
       "      <th>524291</th>\n",
       "      <td>28</td>\n",
       "      <td>0</td>\n",
       "      <td>3</td>\n",
       "      <td>3</td>\n",
       "      <td>3</td>\n",
       "      <td>3</td>\n",
       "      <td>3</td>\n",
       "      <td>3</td>\n",
       "      <td>3</td>\n",
       "      <td>3</td>\n",
       "      <td>3</td>\n",
       "      <td>27</td>\n",
       "      <td>4</td>\n",
       "    </tr>\n",
       "    <tr>\n",
       "      <th>524292</th>\n",
       "      <td>28</td>\n",
       "      <td>0</td>\n",
       "      <td>3</td>\n",
       "      <td>3</td>\n",
       "      <td>3</td>\n",
       "      <td>3</td>\n",
       "      <td>3</td>\n",
       "      <td>3</td>\n",
       "      <td>3</td>\n",
       "      <td>3</td>\n",
       "      <td>3</td>\n",
       "      <td>27</td>\n",
       "      <td>4</td>\n",
       "    </tr>\n",
       "    <tr>\n",
       "      <th>524293</th>\n",
       "      <td>28</td>\n",
       "      <td>0</td>\n",
       "      <td>3</td>\n",
       "      <td>3</td>\n",
       "      <td>3</td>\n",
       "      <td>3</td>\n",
       "      <td>3</td>\n",
       "      <td>3</td>\n",
       "      <td>3</td>\n",
       "      <td>3</td>\n",
       "      <td>3</td>\n",
       "      <td>27</td>\n",
       "      <td>4</td>\n",
       "    </tr>\n",
       "  </tbody>\n",
       "</table>\n",
       "<p>524294 rows × 13 columns</p>\n",
       "</div>"
      ],
      "text/plain": [
       "        Age  Gender  Question 1  Question 2  Question 3  Question 4  \\\n",
       "0        38       1           0           0           0           0   \n",
       "1        51       1           0           0           0           0   \n",
       "2        46       0           0           0           0           0   \n",
       "3        56       1           0           0           0           0   \n",
       "4        43       0           0           0           0           0   \n",
       "...     ...     ...         ...         ...         ...         ...   \n",
       "524289   25       1           3           3           3           3   \n",
       "524290   28       0           3           3           3           3   \n",
       "524291   28       0           3           3           3           3   \n",
       "524292   28       0           3           3           3           3   \n",
       "524293   28       0           3           3           3           3   \n",
       "\n",
       "        Question 5  Question 6  Question 7  Question 8  Question 9  \\\n",
       "0                0           0           0           0           0   \n",
       "1                0           0           0           0           1   \n",
       "2                0           0           0           1           0   \n",
       "3                0           0           1           0           0   \n",
       "4                0           1           0           0           0   \n",
       "...            ...         ...         ...         ...         ...   \n",
       "524289           3           3           3           3           2   \n",
       "524290           3           3           3           3           3   \n",
       "524291           3           3           3           3           3   \n",
       "524292           3           3           3           3           3   \n",
       "524293           3           3           3           3           3   \n",
       "\n",
       "        Total Score  Label  \n",
       "0                 0      1  \n",
       "1                 1      1  \n",
       "2                 1      1  \n",
       "3                 1      1  \n",
       "4                 1      1  \n",
       "...             ...    ...  \n",
       "524289           26      4  \n",
       "524290           27      4  \n",
       "524291           27      4  \n",
       "524292           27      4  \n",
       "524293           27      4  \n",
       "\n",
       "[524294 rows x 13 columns]"
      ]
     },
     "execution_count": 10,
     "metadata": {},
     "output_type": "execute_result"
    }
   ],
   "source": [
    "data_df"
   ]
  },
  {
   "cell_type": "code",
   "execution_count": 11,
   "id": "4c4a25fa-ad4a-432b-b7af-da6138303e44",
   "metadata": {},
   "outputs": [],
   "source": [
    "# Split data into features (X) and labels (y)\n",
    "X = data_df.drop(['Label'], axis=1)\n",
    "y = data_df['Label']"
   ]
  },
  {
   "cell_type": "code",
   "execution_count": 12,
   "id": "97b79b3f-8a47-4f12-8d92-b6bfe808c3c4",
   "metadata": {},
   "outputs": [],
   "source": [
    "from sklearn.model_selection import train_test_split\n",
    "from sklearn.tree import DecisionTreeClassifier\n",
    "from sklearn.metrics import classification_report, accuracy_score"
   ]
  },
  {
   "cell_type": "code",
   "execution_count": 13,
   "id": "b0e245b2-0876-4447-ac20-e34466e5eae1",
   "metadata": {},
   "outputs": [],
   "source": [
    "# Split the data into training and testing sets\n",
    "X_train, X_test, y_train, y_test = train_test_split(X, y, test_size=0.2, random_state=42)"
   ]
  },
  {
   "cell_type": "code",
   "execution_count": 14,
   "id": "f3a75022-2203-4543-874d-e378f0c26f93",
   "metadata": {},
   "outputs": [
    {
     "data": {
      "text/html": [
       "<style>#sk-container-id-1 {color: black;}#sk-container-id-1 pre{padding: 0;}#sk-container-id-1 div.sk-toggleable {background-color: white;}#sk-container-id-1 label.sk-toggleable__label {cursor: pointer;display: block;width: 100%;margin-bottom: 0;padding: 0.3em;box-sizing: border-box;text-align: center;}#sk-container-id-1 label.sk-toggleable__label-arrow:before {content: \"▸\";float: left;margin-right: 0.25em;color: #696969;}#sk-container-id-1 label.sk-toggleable__label-arrow:hover:before {color: black;}#sk-container-id-1 div.sk-estimator:hover label.sk-toggleable__label-arrow:before {color: black;}#sk-container-id-1 div.sk-toggleable__content {max-height: 0;max-width: 0;overflow: hidden;text-align: left;background-color: #f0f8ff;}#sk-container-id-1 div.sk-toggleable__content pre {margin: 0.2em;color: black;border-radius: 0.25em;background-color: #f0f8ff;}#sk-container-id-1 input.sk-toggleable__control:checked~div.sk-toggleable__content {max-height: 200px;max-width: 100%;overflow: auto;}#sk-container-id-1 input.sk-toggleable__control:checked~label.sk-toggleable__label-arrow:before {content: \"▾\";}#sk-container-id-1 div.sk-estimator input.sk-toggleable__control:checked~label.sk-toggleable__label {background-color: #d4ebff;}#sk-container-id-1 div.sk-label input.sk-toggleable__control:checked~label.sk-toggleable__label {background-color: #d4ebff;}#sk-container-id-1 input.sk-hidden--visually {border: 0;clip: rect(1px 1px 1px 1px);clip: rect(1px, 1px, 1px, 1px);height: 1px;margin: -1px;overflow: hidden;padding: 0;position: absolute;width: 1px;}#sk-container-id-1 div.sk-estimator {font-family: monospace;background-color: #f0f8ff;border: 1px dotted black;border-radius: 0.25em;box-sizing: border-box;margin-bottom: 0.5em;}#sk-container-id-1 div.sk-estimator:hover {background-color: #d4ebff;}#sk-container-id-1 div.sk-parallel-item::after {content: \"\";width: 100%;border-bottom: 1px solid gray;flex-grow: 1;}#sk-container-id-1 div.sk-label:hover label.sk-toggleable__label {background-color: #d4ebff;}#sk-container-id-1 div.sk-serial::before {content: \"\";position: absolute;border-left: 1px solid gray;box-sizing: border-box;top: 0;bottom: 0;left: 50%;z-index: 0;}#sk-container-id-1 div.sk-serial {display: flex;flex-direction: column;align-items: center;background-color: white;padding-right: 0.2em;padding-left: 0.2em;position: relative;}#sk-container-id-1 div.sk-item {position: relative;z-index: 1;}#sk-container-id-1 div.sk-parallel {display: flex;align-items: stretch;justify-content: center;background-color: white;position: relative;}#sk-container-id-1 div.sk-item::before, #sk-container-id-1 div.sk-parallel-item::before {content: \"\";position: absolute;border-left: 1px solid gray;box-sizing: border-box;top: 0;bottom: 0;left: 50%;z-index: -1;}#sk-container-id-1 div.sk-parallel-item {display: flex;flex-direction: column;z-index: 1;position: relative;background-color: white;}#sk-container-id-1 div.sk-parallel-item:first-child::after {align-self: flex-end;width: 50%;}#sk-container-id-1 div.sk-parallel-item:last-child::after {align-self: flex-start;width: 50%;}#sk-container-id-1 div.sk-parallel-item:only-child::after {width: 0;}#sk-container-id-1 div.sk-dashed-wrapped {border: 1px dashed gray;margin: 0 0.4em 0.5em 0.4em;box-sizing: border-box;padding-bottom: 0.4em;background-color: white;}#sk-container-id-1 div.sk-label label {font-family: monospace;font-weight: bold;display: inline-block;line-height: 1.2em;}#sk-container-id-1 div.sk-label-container {text-align: center;}#sk-container-id-1 div.sk-container {/* jupyter's `normalize.less` sets `[hidden] { display: none; }` but bootstrap.min.css set `[hidden] { display: none !important; }` so we also need the `!important` here to be able to override the default hidden behavior on the sphinx rendered scikit-learn.org. See: https://github.com/scikit-learn/scikit-learn/issues/21755 */display: inline-block !important;position: relative;}#sk-container-id-1 div.sk-text-repr-fallback {display: none;}</style><div id=\"sk-container-id-1\" class=\"sk-top-container\"><div class=\"sk-text-repr-fallback\"><pre>DecisionTreeClassifier(random_state=42)</pre><b>In a Jupyter environment, please rerun this cell to show the HTML representation or trust the notebook. <br />On GitHub, the HTML representation is unable to render, please try loading this page with nbviewer.org.</b></div><div class=\"sk-container\" hidden><div class=\"sk-item\"><div class=\"sk-estimator sk-toggleable\"><input class=\"sk-toggleable__control sk-hidden--visually\" id=\"sk-estimator-id-1\" type=\"checkbox\" checked><label for=\"sk-estimator-id-1\" class=\"sk-toggleable__label sk-toggleable__label-arrow\">DecisionTreeClassifier</label><div class=\"sk-toggleable__content\"><pre>DecisionTreeClassifier(random_state=42)</pre></div></div></div></div></div>"
      ],
      "text/plain": [
       "DecisionTreeClassifier(random_state=42)"
      ]
     },
     "execution_count": 14,
     "metadata": {},
     "output_type": "execute_result"
    }
   ],
   "source": [
    "# Create and train a Decision Tree Classifier\n",
    "classifier = DecisionTreeClassifier(random_state=42)\n",
    "classifier.fit(X_train, y_train)"
   ]
  },
  {
   "cell_type": "code",
   "execution_count": 15,
   "id": "df2263ff-5e3e-4e25-ab8a-64d23c0e7a67",
   "metadata": {},
   "outputs": [],
   "source": [
    "# Predict labels on the test set\n",
    "y_pred = classifier.predict(X_test)"
   ]
  },
  {
   "cell_type": "code",
   "execution_count": 16,
   "id": "9e8672d5-ff41-4ffb-856d-314f010d3198",
   "metadata": {},
   "outputs": [],
   "source": [
    "# Evaluate the model\n",
    "accuracy = accuracy_score(y_test, y_pred)\n",
    "classification_rep = classification_report(y_test, y_pred, target_names=label_mapping.values())"
   ]
  },
  {
   "cell_type": "code",
   "execution_count": 17,
   "id": "96858c79-8df2-4b19-9c35-9eae078ba219",
   "metadata": {},
   "outputs": [
    {
     "name": "stdout",
     "output_type": "stream",
     "text": [
      "Accuracy: 1.0\n",
      "Classification Report:\n",
      "                               precision    recall  f1-score   support\n",
      "\n",
      "          Minimal Depression       1.00      1.00      1.00     11832\n",
      "             Mild Depression       1.00      1.00      1.00       289\n",
      "         Moderate Depression       1.00      1.00      1.00     52175\n",
      "Moderately Severe Depression       1.00      1.00      1.00     36811\n",
      "           Severe Depression       1.00      1.00      1.00      3752\n",
      "\n",
      "                    accuracy                           1.00    104859\n",
      "                   macro avg       1.00      1.00      1.00    104859\n",
      "                weighted avg       1.00      1.00      1.00    104859\n",
      "\n"
     ]
    }
   ],
   "source": [
    "print(f\"Accuracy: {accuracy}\")\n",
    "print(\"Classification Report:\\n\", classification_rep)"
   ]
  },
  {
   "cell_type": "code",
   "execution_count": 18,
   "id": "216b97c3-ba87-49cb-954b-931ed5217b28",
   "metadata": {},
   "outputs": [],
   "source": [
    "# Data analysis\n",
    "average_age = data_df['Age'].mean()\n",
    "age_range = (data_df['Age'].min(), data_df['Age'].max())\n",
    "gender_distribution = data_df['Gender'].value_counts()"
   ]
  },
  {
   "cell_type": "code",
   "execution_count": 19,
   "id": "1d89fcd5-54ef-479f-a6e9-99d77d69c565",
   "metadata": {},
   "outputs": [
    {
     "name": "stdout",
     "output_type": "stream",
     "text": [
      "Average Age: 41.481989112978596\n",
      "Age Range: (18, 65)\n",
      "Gender Distribution:\n",
      " Gender\n",
      "0    262446\n",
      "1    261848\n",
      "Name: count, dtype: int64\n"
     ]
    }
   ],
   "source": [
    "print(f\"Average Age: {average_age}\")\n",
    "print(f\"Age Range: {age_range}\")\n",
    "print(\"Gender Distribution:\\n\", gender_distribution)"
   ]
  },
  {
   "cell_type": "code",
   "execution_count": 20,
   "id": "d981428a-1d08-4138-a4e5-16f4d58e30f1",
   "metadata": {},
   "outputs": [
    {
     "data": {
      "text/plain": [
       "['depression_model.pkl']"
      ]
     },
     "execution_count": 20,
     "metadata": {},
     "output_type": "execute_result"
    }
   ],
   "source": [
    "import joblib\n",
    "\n",
    "# Save the trained model (Decision Tree Classifier)\n",
    "joblib.dump(classifier, 'depression_model.pkl')"
   ]
  },
  {
   "cell_type": "code",
   "execution_count": null,
   "id": "56d45d27-39f7-4f43-831a-75ee2ce23a73",
   "metadata": {},
   "outputs": [],
   "source": []
  }
 ],
 "metadata": {
  "kernelspec": {
   "display_name": "Python 3 (ipykernel)",
   "language": "python",
   "name": "python3"
  },
  "language_info": {
   "codemirror_mode": {
    "name": "ipython",
    "version": 3
   },
   "file_extension": ".py",
   "mimetype": "text/x-python",
   "name": "python",
   "nbconvert_exporter": "python",
   "pygments_lexer": "ipython3",
   "version": "3.11.5"
  }
 },
 "nbformat": 4,
 "nbformat_minor": 5
}
